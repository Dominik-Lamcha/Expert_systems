{
  "nbformat": 4,
  "nbformat_minor": 0,
  "metadata": {
    "colab": {
      "provenance": [],
      "collapsed_sections": [],
      "authorship_tag": "ABX9TyNU4E5bxdxUS/cmKoF0rSdk",
      "include_colab_link": true
    },
    "kernelspec": {
      "name": "python3",
      "display_name": "Python 3"
    },
    "language_info": {
      "name": "python"
    }
  },
  "cells": [
    {
      "cell_type": "markdown",
      "metadata": {
        "id": "view-in-github",
        "colab_type": "text"
      },
      "source": [
        "<a href=\"https://colab.research.google.com/github/Dominik-Lamcha/Expert_systems/blob/main/Basic_expert_system.ipynb\" target=\"_parent\"><img src=\"https://colab.research.google.com/assets/colab-badge.svg\" alt=\"Open In Colab\"/></a>"
      ]
    },
    {
      "cell_type": "code",
      "execution_count": null,
      "metadata": {
        "colab": {
          "base_uri": "https://localhost:8080/"
        },
        "id": "ZxpKUiuerh8R",
        "outputId": "195b8b2a-6c67-41aa-dc53-fb8aae19dec8"
      },
      "outputs": [
        {
          "output_type": "stream",
          "name": "stdout",
          "text": [
            "Looking in indexes: https://pypi.org/simple, https://us-python.pkg.dev/colab-wheels/public/simple/\n",
            "Collecting durable_rules\n",
            "  Downloading durable_rules-2.0.28.tar.gz (57 kB)\n",
            "\u001b[K     |████████████████████████████████| 57 kB 6.5 MB/s \n",
            "\u001b[?25hBuilding wheels for collected packages: durable-rules\n",
            "  Building wheel for durable-rules (setup.py) ... \u001b[?25l\u001b[?25hdone\n",
            "  Created wheel for durable-rules: filename=durable_rules-2.0.28-cp37-cp37m-linux_x86_64.whl size=176381 sha256=74178139350df587952eff80b759d456e0848c404af4d27e48f504bf88268c63\n",
            "  Stored in directory: /root/.cache/pip/wheels/95/83/aa/1f9f65309b49e04f691d488c63c0aafaee273e370d8a0c2b36\n",
            "Successfully built durable-rules\n",
            "Installing collected packages: durable-rules\n",
            "Successfully installed durable-rules-2.0.28\n"
          ]
        }
      ],
      "source": [
        "!pip install --upgrade durable_rules"
      ]
    },
    {
      "cell_type": "code",
      "source": [
        "from durable.lang import *\n",
        "\n",
        "with ruleset('test'):\n",
        "  # antacedent\n",
        "  @when_all(m.subject == 'World')\n",
        "  def say_hello(c):\n",
        "    # consequent\n",
        "    print ('Hello {0}'.format(c.m.subject))\n",
        "  @when_all(m.subject == 'Swiat')\n",
        "  def say_hello1(c):\n",
        "    # consequent\n",
        "    print ('Hello {0}'.format(c.m.subject))\n",
        "  @when_all(m.subject == 'Welt')\n",
        "  def say_hello2(c):\n",
        "    # consequent\n",
        "    print ('Hello {0}'.format(c.m.subject))\n",
        "  \n",
        "post('test', { 'subject': 'World' }) \n",
        "post('test', { 'subject': 'Swiat' }) \n",
        "post('test', { 'subject': 'Welt' }) "
      ],
      "metadata": {
        "colab": {
          "base_uri": "https://localhost:8080/"
        },
        "id": "M4O1r3xWr5G7",
        "outputId": "1acfc5f3-5570-45b6-bf28-4c7633e0ffee"
      },
      "execution_count": null,
      "outputs": [
        {
          "output_type": "stream",
          "name": "stdout",
          "text": [
            "Hello World\n",
            "Hello Swiat\n",
            "Hello Welt\n"
          ]
        },
        {
          "output_type": "execute_result",
          "data": {
            "text/plain": [
              "{'sid': '0', 'id': 'sid-0', '$s': 1}"
            ]
          },
          "metadata": {},
          "execution_count": 2
        }
      ]
    }
  ]
}